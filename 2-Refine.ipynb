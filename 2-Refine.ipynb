{
 "cells": [
  {
   "cell_type": "markdown",
   "metadata": {},
   "source": [
    "# 2. Refine the Data\n",
    " \n",
    "> \"Data is messy\"\n",
    "\n",
    "- **Missing** e.g. Check for missing or incomplete data\n",
    "- **Quality** e.g. Check for duplicates, accuracy, unusual data\n",
    "- **Parse** e.g. extract year and month from date\n",
    "- **Merge** e.g. first and surname for full name\n",
    "- **Convert** e.g. free text to coded value\n",
    "- **Derive** e.g. gender from title\n",
    "- **Summary** e.g. show summary stats like mean\n",
    "- **Calculate** e.g. percentages, proportion\n",
    "- **Remove** e.g. remove redundant data\n",
    "- **Aggregate** e.g. rollup by year, cluster by area\n",
    "- **Filter** e.g. exclude based on location\n",
    "- **Sample** e.g. extract a representative data\n"
   ]
  },
  {
   "cell_type": "code",
   "execution_count": 1,
   "metadata": {
    "collapsed": true
   },
   "outputs": [],
   "source": [
    "# Load the libraries\n",
    "import numpy as np\n",
    "import pandas as pd"
   ]
  },
  {
   "cell_type": "code",
   "execution_count": 2,
   "metadata": {
    "collapsed": true
   },
   "outputs": [],
   "source": [
    "# Load the data again!\n",
    "df = pd.read_csv(\"data/Weed_Price.csv\", parse_dates=[-1])"
   ]
  },
  {
   "cell_type": "markdown",
   "metadata": {},
   "source": [
    "## 2.1 Missing Data\n",
    "\n",
    "By “missing” data we simply mean null or “not present for whatever reason”. Lets see if we can find the missing data in our data set either because it exists and was not collected or it never existed"
   ]
  },
  {
   "cell_type": "code",
   "execution_count": 3,
   "metadata": {
    "collapsed": false
   },
   "outputs": [
    {
     "data": {
      "text/plain": [
       "State     22899\n",
       "HighQ     22899\n",
       "HighQN    22899\n",
       "MedQ      22899\n",
       "MedQN     22899\n",
       "LowQ      12342\n",
       "LowQN     22899\n",
       "date      22899\n",
       "dtype: int64"
      ]
     },
     "execution_count": 3,
     "metadata": {},
     "output_type": "execute_result"
    }
   ],
   "source": [
    "# Lets start the count to seeing about missing data\n",
    "df.count()"
   ]
  },
  {
   "cell_type": "code",
   "execution_count": 14,
   "metadata": {
    "collapsed": false
   },
   "outputs": [
    {
     "data": {
      "text/plain": [
       "0        False\n",
       "1        False\n",
       "2        False\n",
       "3        False\n",
       "4        False\n",
       "5        False\n",
       "6        False\n",
       "7        False\n",
       "8        False\n",
       "9        False\n",
       "10       False\n",
       "11       False\n",
       "12       False\n",
       "13       False\n",
       "14       False\n",
       "15       False\n",
       "16       False\n",
       "17       False\n",
       "18       False\n",
       "19       False\n",
       "20       False\n",
       "21       False\n",
       "22       False\n",
       "23       False\n",
       "24       False\n",
       "25       False\n",
       "26       False\n",
       "27       False\n",
       "28       False\n",
       "29       False\n",
       "         ...  \n",
       "22869     True\n",
       "22870     True\n",
       "22871     True\n",
       "22872     True\n",
       "22873     True\n",
       "22874     True\n",
       "22875     True\n",
       "22876     True\n",
       "22877     True\n",
       "22878     True\n",
       "22879     True\n",
       "22880     True\n",
       "22881     True\n",
       "22882     True\n",
       "22883     True\n",
       "22884     True\n",
       "22885     True\n",
       "22886     True\n",
       "22887     True\n",
       "22888     True\n",
       "22889     True\n",
       "22890     True\n",
       "22891     True\n",
       "22892     True\n",
       "22893     True\n",
       "22894     True\n",
       "22895     True\n",
       "22896     True\n",
       "22897     True\n",
       "22898     True\n",
       "Name: LowQ, dtype: bool"
      ]
     },
     "execution_count": 14,
     "metadata": {},
     "output_type": "execute_result"
    }
   ],
   "source": [
    "df['LowQ'].isnull()"
   ]
  },
  {
   "cell_type": "code",
   "execution_count": 15,
   "metadata": {
    "collapsed": false
   },
   "outputs": [
    {
     "data": {
      "text/html": [
       "<div>\n",
       "<table border=\"1\" class=\"dataframe\">\n",
       "  <thead>\n",
       "    <tr style=\"text-align: right;\">\n",
       "      <th></th>\n",
       "      <th>State</th>\n",
       "      <th>HighQ</th>\n",
       "      <th>HighQN</th>\n",
       "      <th>MedQ</th>\n",
       "      <th>MedQN</th>\n",
       "      <th>LowQ</th>\n",
       "      <th>LowQN</th>\n",
       "      <th>date</th>\n",
       "    </tr>\n",
       "  </thead>\n",
       "  <tbody>\n",
       "    <tr>\n",
       "      <th>22894</th>\n",
       "      <td>Virginia</td>\n",
       "      <td>364.98</td>\n",
       "      <td>3513</td>\n",
       "      <td>293.12</td>\n",
       "      <td>3079</td>\n",
       "      <td>NaN</td>\n",
       "      <td>284</td>\n",
       "      <td>2014-12-31</td>\n",
       "    </tr>\n",
       "    <tr>\n",
       "      <th>22895</th>\n",
       "      <td>Washington</td>\n",
       "      <td>233.05</td>\n",
       "      <td>3337</td>\n",
       "      <td>189.92</td>\n",
       "      <td>3562</td>\n",
       "      <td>NaN</td>\n",
       "      <td>160</td>\n",
       "      <td>2014-12-31</td>\n",
       "    </tr>\n",
       "    <tr>\n",
       "      <th>22896</th>\n",
       "      <td>West Virginia</td>\n",
       "      <td>359.35</td>\n",
       "      <td>551</td>\n",
       "      <td>224.03</td>\n",
       "      <td>545</td>\n",
       "      <td>NaN</td>\n",
       "      <td>60</td>\n",
       "      <td>2014-12-31</td>\n",
       "    </tr>\n",
       "    <tr>\n",
       "      <th>22897</th>\n",
       "      <td>Wisconsin</td>\n",
       "      <td>350.52</td>\n",
       "      <td>2244</td>\n",
       "      <td>272.71</td>\n",
       "      <td>2221</td>\n",
       "      <td>NaN</td>\n",
       "      <td>167</td>\n",
       "      <td>2014-12-31</td>\n",
       "    </tr>\n",
       "    <tr>\n",
       "      <th>22898</th>\n",
       "      <td>Wyoming</td>\n",
       "      <td>322.27</td>\n",
       "      <td>131</td>\n",
       "      <td>351.86</td>\n",
       "      <td>197</td>\n",
       "      <td>NaN</td>\n",
       "      <td>12</td>\n",
       "      <td>2014-12-31</td>\n",
       "    </tr>\n",
       "  </tbody>\n",
       "</table>\n",
       "</div>"
      ],
      "text/plain": [
       "               State   HighQ  HighQN    MedQ  MedQN  LowQ  LowQN       date\n",
       "22894       Virginia  364.98    3513  293.12   3079   NaN    284 2014-12-31\n",
       "22895     Washington  233.05    3337  189.92   3562   NaN    160 2014-12-31\n",
       "22896  West Virginia  359.35     551  224.03    545   NaN     60 2014-12-31\n",
       "22897      Wisconsin  350.52    2244  272.71   2221   NaN    167 2014-12-31\n",
       "22898        Wyoming  322.27     131  351.86    197   NaN     12 2014-12-31"
      ]
     },
     "execution_count": 15,
     "metadata": {},
     "output_type": "execute_result"
    }
   ],
   "source": [
    "# We can see the bottom rows which have NaN values\n",
    "df.tail()"
   ]
  },
  {
   "cell_type": "markdown",
   "metadata": {},
   "source": [
    "**Pandas will represent missing value by NaN**\n",
    "\n",
    "What can we do this with missing value?\n",
    "- Drop these rows / columsn? Use .dropna(how='any')\n",
    "- Fill with a dummy value? Use .fillna(value=dummy)\n",
    "- Impute the cell with the most recent value? Use .fillna(method='ffill')\n",
    "- Interpolate the amount in a linear fashion? Use .interpolate()"
   ]
  },
  {
   "cell_type": "code",
   "execution_count": 22,
   "metadata": {
    "collapsed": false
   },
   "outputs": [],
   "source": [
    "# Lets sort this data frame by State and Date\n",
    "df1 = df.sort(columns=['State','date'])"
   ]
  },
  {
   "cell_type": "code",
   "execution_count": 23,
   "metadata": {
    "collapsed": true
   },
   "outputs": [],
   "source": [
    "# Lets fill the missing value with last available value\n",
    "df2 = df1.fillna(method = \"ffill\")"
   ]
  },
  {
   "cell_type": "code",
   "execution_count": 24,
   "metadata": {
    "collapsed": false
   },
   "outputs": [
    {
     "data": {
      "text/plain": [
       "State     22899\n",
       "HighQ     22899\n",
       "HighQN    22899\n",
       "MedQ      22899\n",
       "MedQN     22899\n",
       "LowQ      22899\n",
       "LowQN     22899\n",
       "date      22899\n",
       "dtype: int64"
      ]
     },
     "execution_count": 24,
     "metadata": {},
     "output_type": "execute_result"
    }
   ],
   "source": [
    "df2.count()"
   ]
  },
  {
   "cell_type": "code",
   "execution_count": 35,
   "metadata": {
    "collapsed": false
   },
   "outputs": [
    {
     "data": {
      "text/plain": [
       "State     22899\n",
       "HighQ     22899\n",
       "HighQN    22899\n",
       "MedQ      22899\n",
       "MedQN     22899\n",
       "LowQ      22899\n",
       "LowQN     22899\n",
       "date      22899\n",
       "dtype: int64"
      ]
     },
     "execution_count": 35,
     "metadata": {},
     "output_type": "execute_result"
    }
   ],
   "source": [
    "# Copying back to the df\n",
    "df = df2\n",
    "df.count()"
   ]
  },
  {
   "cell_type": "markdown",
   "metadata": {},
   "source": [
    "## 2.2 Quality of the Data \n",
    "\n",
    "Lets check for completeness.\n",
    "\n",
    "**Say, do we have data on each date for all the 51 states?**"
   ]
  },
  {
   "cell_type": "code",
   "execution_count": 36,
   "metadata": {
    "collapsed": false
   },
   "outputs": [
    {
     "data": {
      "text/plain": [
       "Utah                    449\n",
       "Washington              449\n",
       "Massachusetts           449\n",
       "Missouri                449\n",
       "Connecticut             449\n",
       "Vermont                 449\n",
       "Pennsylvania            449\n",
       "Georgia                 449\n",
       "California              449\n",
       "North Carolina          449\n",
       "Florida                 449\n",
       "Oregon                  449\n",
       "Alabama                 449\n",
       "Indiana                 449\n",
       "Kentucky                449\n",
       "Hawaii                  449\n",
       "South Carolina          449\n",
       "Virginia                449\n",
       "Oklahoma                449\n",
       "Texas                   449\n",
       "Illinois                449\n",
       "Nebraska                449\n",
       "Ohio                    449\n",
       "Arizona                 449\n",
       "Rhode Island            449\n",
       "Louisiana               449\n",
       "Wisconsin               449\n",
       "New York                449\n",
       "Arkansas                449\n",
       "Montana                 449\n",
       "New Hampshire           449\n",
       "North Dakota            449\n",
       "New Mexico              449\n",
       "Delaware                449\n",
       "Iowa                    449\n",
       "New Jersey              449\n",
       "Kansas                  449\n",
       "Idaho                   449\n",
       "Colorado                449\n",
       "Maryland                449\n",
       "District of Columbia    449\n",
       "Michigan                449\n",
       "South Dakota            449\n",
       "West Virginia           449\n",
       "Minnesota               449\n",
       "Wyoming                 449\n",
       "Mississippi             449\n",
       "Tennessee               449\n",
       "Nevada                  449\n",
       "Maine                   449\n",
       "Alaska                  449\n",
       "dtype: int64"
      ]
     },
     "execution_count": 36,
     "metadata": {},
     "output_type": "execute_result"
    }
   ],
   "source": [
    "df[\"State\"].value_counts()"
   ]
  },
  {
   "cell_type": "markdown",
   "metadata": {},
   "source": [
    "**Lets check the dates and see if they are all continuous**"
   ]
  },
  {
   "cell_type": "code",
   "execution_count": null,
   "metadata": {
    "collapsed": true
   },
   "outputs": [],
   "source": []
  },
  {
   "cell_type": "markdown",
   "metadata": {},
   "source": [
    "## 2.3  Parse the Data\n",
    "\n",
    "Lets see if we can get the year, month, week and weekdays from the date. Pandas has got good built in functionality for timeseries data using the DatetimeIndex method "
   ]
  },
  {
   "cell_type": "code",
   "execution_count": 55,
   "metadata": {
    "collapsed": false
   },
   "outputs": [],
   "source": [
    "df['year'] = pd.DatetimeIndex(df['date']).year\n",
    "df['month'] = pd.DatetimeIndex(df['date']).month\n",
    "df['week'] = pd.DatetimeIndex(df['date']).week\n",
    "df['weekday'] = pd.DatetimeIndex(df['date']).weekday"
   ]
  },
  {
   "cell_type": "code",
   "execution_count": 56,
   "metadata": {
    "collapsed": false
   },
   "outputs": [
    {
     "data": {
      "text/plain": [
       "State              object\n",
       "HighQ             float64\n",
       "HighQN              int64\n",
       "MedQ              float64\n",
       "MedQN               int64\n",
       "LowQ              float64\n",
       "LowQN               int64\n",
       "date       datetime64[ns]\n",
       "year                int32\n",
       "month               int32\n",
       "weekday             int32\n",
       "week                int32\n",
       "dtype: object"
      ]
     },
     "execution_count": 56,
     "metadata": {},
     "output_type": "execute_result"
    }
   ],
   "source": [
    "df.dtypes"
   ]
  },
  {
   "cell_type": "code",
   "execution_count": 61,
   "metadata": {
    "collapsed": false
   },
   "outputs": [
    {
     "data": {
      "text/html": [
       "<div>\n",
       "<table border=\"1\" class=\"dataframe\">\n",
       "  <thead>\n",
       "    <tr style=\"text-align: right;\">\n",
       "      <th></th>\n",
       "      <th>State</th>\n",
       "      <th>HighQ</th>\n",
       "      <th>HighQN</th>\n",
       "      <th>MedQ</th>\n",
       "      <th>MedQN</th>\n",
       "      <th>LowQ</th>\n",
       "      <th>LowQN</th>\n",
       "      <th>date</th>\n",
       "      <th>year</th>\n",
       "      <th>month</th>\n",
       "      <th>weekday</th>\n",
       "      <th>week</th>\n",
       "    </tr>\n",
       "  </thead>\n",
       "  <tbody>\n",
       "    <tr>\n",
       "      <th>4997</th>\n",
       "      <td>Wyoming</td>\n",
       "      <td>313.72</td>\n",
       "      <td>148</td>\n",
       "      <td>317.38</td>\n",
       "      <td>226</td>\n",
       "      <td>161.3</td>\n",
       "      <td>13</td>\n",
       "      <td>2015-06-07</td>\n",
       "      <td>2015</td>\n",
       "      <td>6</td>\n",
       "      <td>6</td>\n",
       "      <td>23</td>\n",
       "    </tr>\n",
       "    <tr>\n",
       "      <th>5762</th>\n",
       "      <td>Wyoming</td>\n",
       "      <td>313.72</td>\n",
       "      <td>148</td>\n",
       "      <td>317.38</td>\n",
       "      <td>226</td>\n",
       "      <td>161.3</td>\n",
       "      <td>13</td>\n",
       "      <td>2015-06-08</td>\n",
       "      <td>2015</td>\n",
       "      <td>6</td>\n",
       "      <td>0</td>\n",
       "      <td>24</td>\n",
       "    </tr>\n",
       "    <tr>\n",
       "      <th>6527</th>\n",
       "      <td>Wyoming</td>\n",
       "      <td>313.72</td>\n",
       "      <td>148</td>\n",
       "      <td>317.38</td>\n",
       "      <td>226</td>\n",
       "      <td>161.3</td>\n",
       "      <td>13</td>\n",
       "      <td>2015-06-09</td>\n",
       "      <td>2015</td>\n",
       "      <td>6</td>\n",
       "      <td>1</td>\n",
       "      <td>24</td>\n",
       "    </tr>\n",
       "    <tr>\n",
       "      <th>7343</th>\n",
       "      <td>Wyoming</td>\n",
       "      <td>313.72</td>\n",
       "      <td>148</td>\n",
       "      <td>317.38</td>\n",
       "      <td>226</td>\n",
       "      <td>161.3</td>\n",
       "      <td>13</td>\n",
       "      <td>2015-06-10</td>\n",
       "      <td>2015</td>\n",
       "      <td>6</td>\n",
       "      <td>2</td>\n",
       "      <td>24</td>\n",
       "    </tr>\n",
       "    <tr>\n",
       "      <th>8159</th>\n",
       "      <td>Wyoming</td>\n",
       "      <td>313.72</td>\n",
       "      <td>148</td>\n",
       "      <td>317.38</td>\n",
       "      <td>226</td>\n",
       "      <td>161.3</td>\n",
       "      <td>13</td>\n",
       "      <td>2015-06-11</td>\n",
       "      <td>2015</td>\n",
       "      <td>6</td>\n",
       "      <td>3</td>\n",
       "      <td>24</td>\n",
       "    </tr>\n",
       "  </tbody>\n",
       "</table>\n",
       "</div>"
      ],
      "text/plain": [
       "        State   HighQ  HighQN    MedQ  MedQN   LowQ  LowQN       date  year  \\\n",
       "4997  Wyoming  313.72     148  317.38    226  161.3     13 2015-06-07  2015   \n",
       "5762  Wyoming  313.72     148  317.38    226  161.3     13 2015-06-08  2015   \n",
       "6527  Wyoming  313.72     148  317.38    226  161.3     13 2015-06-09  2015   \n",
       "7343  Wyoming  313.72     148  317.38    226  161.3     13 2015-06-10  2015   \n",
       "8159  Wyoming  313.72     148  317.38    226  161.3     13 2015-06-11  2015   \n",
       "\n",
       "      month  weekday  week  \n",
       "4997      6        6    23  \n",
       "5762      6        0    24  \n",
       "6527      6        1    24  \n",
       "7343      6        2    24  \n",
       "8159      6        3    24  "
      ]
     },
     "execution_count": 61,
     "metadata": {},
     "output_type": "execute_result"
    }
   ],
   "source": [
    "df.tail()"
   ]
  },
  {
   "cell_type": "code",
   "execution_count": 57,
   "metadata": {
    "collapsed": false
   },
   "outputs": [
    {
     "data": {
      "text/plain": [
       "2014    18564\n",
       "2015     4080\n",
       "2013      255\n",
       "dtype: int64"
      ]
     },
     "execution_count": 57,
     "metadata": {},
     "output_type": "execute_result"
    }
   ],
   "source": [
    "df['year'].value_counts()"
   ]
  },
  {
   "cell_type": "code",
   "execution_count": 58,
   "metadata": {
    "collapsed": false
   },
   "outputs": [
    {
     "data": {
      "text/plain": [
       "1     3162\n",
       "5     2703\n",
       "2     2244\n",
       "6     2091\n",
       "12    1836\n",
       "10    1581\n",
       "7     1581\n",
       "3     1581\n",
       "11    1530\n",
       "9     1530\n",
       "8     1530\n",
       "4     1530\n",
       "dtype: int64"
      ]
     },
     "execution_count": 58,
     "metadata": {},
     "output_type": "execute_result"
    }
   ],
   "source": [
    "df['month'].value_counts()"
   ]
  },
  {
   "cell_type": "code",
   "execution_count": 54,
   "metadata": {
    "collapsed": false
   },
   "outputs": [
    {
     "data": {
      "text/plain": [
       "6    3315\n",
       "0    3315\n",
       "4    3264\n",
       "3    3264\n",
       "2    3264\n",
       "1    3264\n",
       "5    3213\n",
       "dtype: int64"
      ]
     },
     "execution_count": 54,
     "metadata": {},
     "output_type": "execute_result"
    }
   ],
   "source": [
    "df[\"weekday\"].value_counts()"
   ]
  },
  {
   "cell_type": "markdown",
   "metadata": {},
   "source": [
    "## 2.4 Merge the Data"
   ]
  },
  {
   "cell_type": "markdown",
   "metadata": {},
   "source": [
    "## 2.5 Summarise the Data "
   ]
  },
  {
   "cell_type": "code",
   "execution_count": 62,
   "metadata": {
    "collapsed": false
   },
   "outputs": [
    {
     "data": {
      "text/html": [
       "<div>\n",
       "<table border=\"1\" class=\"dataframe\">\n",
       "  <thead>\n",
       "    <tr style=\"text-align: right;\">\n",
       "      <th></th>\n",
       "      <th>HighQ</th>\n",
       "      <th>HighQN</th>\n",
       "      <th>MedQ</th>\n",
       "      <th>MedQN</th>\n",
       "      <th>LowQ</th>\n",
       "      <th>LowQN</th>\n",
       "      <th>year</th>\n",
       "      <th>month</th>\n",
       "      <th>weekday</th>\n",
       "      <th>week</th>\n",
       "    </tr>\n",
       "  </thead>\n",
       "  <tbody>\n",
       "    <tr>\n",
       "      <th>count</th>\n",
       "      <td>22899.000000</td>\n",
       "      <td>22899.000000</td>\n",
       "      <td>22899.000000</td>\n",
       "      <td>22899.000000</td>\n",
       "      <td>22899.000000</td>\n",
       "      <td>22899.000000</td>\n",
       "      <td>22899.000000</td>\n",
       "      <td>22899.000000</td>\n",
       "      <td>22899.000000</td>\n",
       "      <td>22899.000000</td>\n",
       "    </tr>\n",
       "    <tr>\n",
       "      <th>mean</th>\n",
       "      <td>329.759854</td>\n",
       "      <td>2274.743657</td>\n",
       "      <td>247.618306</td>\n",
       "      <td>2183.737805</td>\n",
       "      <td>203.624092</td>\n",
       "      <td>202.804489</td>\n",
       "      <td>2014.167038</td>\n",
       "      <td>5.953229</td>\n",
       "      <td>2.995546</td>\n",
       "      <td>23.812918</td>\n",
       "    </tr>\n",
       "    <tr>\n",
       "      <th>std</th>\n",
       "      <td>41.173167</td>\n",
       "      <td>2641.936586</td>\n",
       "      <td>44.276015</td>\n",
       "      <td>2789.902626</td>\n",
       "      <td>101.484265</td>\n",
       "      <td>220.531987</td>\n",
       "      <td>0.401765</td>\n",
       "      <td>3.553055</td>\n",
       "      <td>2.005599</td>\n",
       "      <td>15.426018</td>\n",
       "    </tr>\n",
       "    <tr>\n",
       "      <th>min</th>\n",
       "      <td>202.020000</td>\n",
       "      <td>93.000000</td>\n",
       "      <td>144.850000</td>\n",
       "      <td>134.000000</td>\n",
       "      <td>63.700000</td>\n",
       "      <td>11.000000</td>\n",
       "      <td>2013.000000</td>\n",
       "      <td>1.000000</td>\n",
       "      <td>0.000000</td>\n",
       "      <td>1.000000</td>\n",
       "    </tr>\n",
       "    <tr>\n",
       "      <th>25%</th>\n",
       "      <td>303.780000</td>\n",
       "      <td>597.000000</td>\n",
       "      <td>215.775000</td>\n",
       "      <td>548.000000</td>\n",
       "      <td>145.810000</td>\n",
       "      <td>51.000000</td>\n",
       "      <td>2014.000000</td>\n",
       "      <td>3.000000</td>\n",
       "      <td>1.000000</td>\n",
       "      <td>9.000000</td>\n",
       "    </tr>\n",
       "    <tr>\n",
       "      <th>50%</th>\n",
       "      <td>342.310000</td>\n",
       "      <td>1420.000000</td>\n",
       "      <td>245.800000</td>\n",
       "      <td>1320.000000</td>\n",
       "      <td>185.780000</td>\n",
       "      <td>139.000000</td>\n",
       "      <td>2014.000000</td>\n",
       "      <td>6.000000</td>\n",
       "      <td>3.000000</td>\n",
       "      <td>22.000000</td>\n",
       "    </tr>\n",
       "    <tr>\n",
       "      <th>75%</th>\n",
       "      <td>356.550000</td>\n",
       "      <td>2958.000000</td>\n",
       "      <td>274.155000</td>\n",
       "      <td>2673.000000</td>\n",
       "      <td>222.940000</td>\n",
       "      <td>263.000000</td>\n",
       "      <td>2014.000000</td>\n",
       "      <td>9.000000</td>\n",
       "      <td>5.000000</td>\n",
       "      <td>37.000000</td>\n",
       "    </tr>\n",
       "    <tr>\n",
       "      <th>max</th>\n",
       "      <td>415.700000</td>\n",
       "      <td>18492.000000</td>\n",
       "      <td>379.000000</td>\n",
       "      <td>22027.000000</td>\n",
       "      <td>734.650000</td>\n",
       "      <td>1287.000000</td>\n",
       "      <td>2015.000000</td>\n",
       "      <td>12.000000</td>\n",
       "      <td>6.000000</td>\n",
       "      <td>52.000000</td>\n",
       "    </tr>\n",
       "  </tbody>\n",
       "</table>\n",
       "</div>"
      ],
      "text/plain": [
       "              HighQ        HighQN          MedQ         MedQN          LowQ  \\\n",
       "count  22899.000000  22899.000000  22899.000000  22899.000000  22899.000000   \n",
       "mean     329.759854   2274.743657    247.618306   2183.737805    203.624092   \n",
       "std       41.173167   2641.936586     44.276015   2789.902626    101.484265   \n",
       "min      202.020000     93.000000    144.850000    134.000000     63.700000   \n",
       "25%      303.780000    597.000000    215.775000    548.000000    145.810000   \n",
       "50%      342.310000   1420.000000    245.800000   1320.000000    185.780000   \n",
       "75%      356.550000   2958.000000    274.155000   2673.000000    222.940000   \n",
       "max      415.700000  18492.000000    379.000000  22027.000000    734.650000   \n",
       "\n",
       "              LowQN          year         month       weekday          week  \n",
       "count  22899.000000  22899.000000  22899.000000  22899.000000  22899.000000  \n",
       "mean     202.804489   2014.167038      5.953229      2.995546     23.812918  \n",
       "std      220.531987      0.401765      3.553055      2.005599     15.426018  \n",
       "min       11.000000   2013.000000      1.000000      0.000000      1.000000  \n",
       "25%       51.000000   2014.000000      3.000000      1.000000      9.000000  \n",
       "50%      139.000000   2014.000000      6.000000      3.000000     22.000000  \n",
       "75%      263.000000   2014.000000      9.000000      5.000000     37.000000  \n",
       "max     1287.000000   2015.000000     12.000000      6.000000     52.000000  "
      ]
     },
     "execution_count": 62,
     "metadata": {},
     "output_type": "execute_result"
    }
   ],
   "source": [
    "df.describe()"
   ]
  },
  {
   "cell_type": "code",
   "execution_count": null,
   "metadata": {
    "collapsed": true
   },
   "outputs": [],
   "source": []
  },
  {
   "cell_type": "markdown",
   "metadata": {},
   "source": [
    "## 2.6 Filter the Data\n",
    "\n",
    "Lets start by filtering the data \n",
    "- by location"
   ]
  },
  {
   "cell_type": "code",
   "execution_count": null,
   "metadata": {
    "collapsed": true
   },
   "outputs": [],
   "source": []
  }
 ],
 "metadata": {
  "kernelspec": {
   "display_name": "Python 2",
   "language": "python",
   "name": "python2"
  },
  "language_info": {
   "codemirror_mode": {
    "name": "ipython",
    "version": 2
   },
   "file_extension": ".py",
   "mimetype": "text/x-python",
   "name": "python",
   "nbconvert_exporter": "python",
   "pygments_lexer": "ipython2",
   "version": "2.7.10"
  }
 },
 "nbformat": 4,
 "nbformat_minor": 0
}
