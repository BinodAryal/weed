{
 "cells": [
  {
   "cell_type": "code",
   "execution_count": 1,
   "metadata": {
    "collapsed": true
   },
   "outputs": [],
   "source": [
    "import pandas as pd\n",
    "import numpy as np\n",
    "import matplotlib.pyplot as plt"
   ]
  },
  {
   "cell_type": "code",
   "execution_count": 5,
   "metadata": {
    "collapsed": false
   },
   "outputs": [],
   "source": [
    "df_price = pd.read_csv(\"data/Weed_Price.csv\")"
   ]
  },
  {
   "cell_type": "code",
   "execution_count": 6,
   "metadata": {
    "collapsed": false
   },
   "outputs": [
    {
     "data": {
      "text/html": [
       "<div>\n",
       "<table border=\"1\" class=\"dataframe\">\n",
       "  <thead>\n",
       "    <tr style=\"text-align: right;\">\n",
       "      <th></th>\n",
       "      <th>State</th>\n",
       "      <th>HighQ</th>\n",
       "      <th>HighQN</th>\n",
       "      <th>MedQ</th>\n",
       "      <th>MedQN</th>\n",
       "      <th>LowQ</th>\n",
       "      <th>LowQN</th>\n",
       "      <th>date</th>\n",
       "    </tr>\n",
       "  </thead>\n",
       "  <tbody>\n",
       "    <tr>\n",
       "      <th>0</th>\n",
       "      <td>Alabama</td>\n",
       "      <td>339.06</td>\n",
       "      <td>1042</td>\n",
       "      <td>198.64</td>\n",
       "      <td>933</td>\n",
       "      <td>149.49</td>\n",
       "      <td>123</td>\n",
       "      <td>2014-01-01</td>\n",
       "    </tr>\n",
       "    <tr>\n",
       "      <th>1</th>\n",
       "      <td>Alaska</td>\n",
       "      <td>288.75</td>\n",
       "      <td>252</td>\n",
       "      <td>260.60</td>\n",
       "      <td>297</td>\n",
       "      <td>388.58</td>\n",
       "      <td>26</td>\n",
       "      <td>2014-01-01</td>\n",
       "    </tr>\n",
       "    <tr>\n",
       "      <th>2</th>\n",
       "      <td>Arizona</td>\n",
       "      <td>303.31</td>\n",
       "      <td>1941</td>\n",
       "      <td>209.35</td>\n",
       "      <td>1625</td>\n",
       "      <td>189.45</td>\n",
       "      <td>222</td>\n",
       "      <td>2014-01-01</td>\n",
       "    </tr>\n",
       "    <tr>\n",
       "      <th>3</th>\n",
       "      <td>Arkansas</td>\n",
       "      <td>361.85</td>\n",
       "      <td>576</td>\n",
       "      <td>185.62</td>\n",
       "      <td>544</td>\n",
       "      <td>125.87</td>\n",
       "      <td>112</td>\n",
       "      <td>2014-01-01</td>\n",
       "    </tr>\n",
       "    <tr>\n",
       "      <th>4</th>\n",
       "      <td>California</td>\n",
       "      <td>248.78</td>\n",
       "      <td>12096</td>\n",
       "      <td>193.56</td>\n",
       "      <td>12812</td>\n",
       "      <td>192.92</td>\n",
       "      <td>778</td>\n",
       "      <td>2014-01-01</td>\n",
       "    </tr>\n",
       "  </tbody>\n",
       "</table>\n",
       "</div>"
      ],
      "text/plain": [
       "        State   HighQ  HighQN    MedQ  MedQN    LowQ  LowQN        date\n",
       "0     Alabama  339.06    1042  198.64    933  149.49    123  2014-01-01\n",
       "1      Alaska  288.75     252  260.60    297  388.58     26  2014-01-01\n",
       "2     Arizona  303.31    1941  209.35   1625  189.45    222  2014-01-01\n",
       "3    Arkansas  361.85     576  185.62    544  125.87    112  2014-01-01\n",
       "4  California  248.78   12096  193.56  12812  192.92    778  2014-01-01"
      ]
     },
     "execution_count": 6,
     "metadata": {},
     "output_type": "execute_result"
    }
   ],
   "source": [
    "df_price.head()"
   ]
  },
  {
   "cell_type": "code",
   "execution_count": 7,
   "metadata": {
    "collapsed": false
   },
   "outputs": [
    {
     "data": {
      "text/html": [
       "<div>\n",
       "<table border=\"1\" class=\"dataframe\">\n",
       "  <thead>\n",
       "    <tr style=\"text-align: right;\">\n",
       "      <th></th>\n",
       "      <th>State</th>\n",
       "      <th>HighQ</th>\n",
       "      <th>HighQN</th>\n",
       "      <th>MedQ</th>\n",
       "      <th>MedQN</th>\n",
       "      <th>LowQ</th>\n",
       "      <th>LowQN</th>\n",
       "      <th>date</th>\n",
       "    </tr>\n",
       "  </thead>\n",
       "  <tbody>\n",
       "    <tr>\n",
       "      <th>22894</th>\n",
       "      <td>Virginia</td>\n",
       "      <td>364.98</td>\n",
       "      <td>3513</td>\n",
       "      <td>293.12</td>\n",
       "      <td>3079</td>\n",
       "      <td>NaN</td>\n",
       "      <td>284</td>\n",
       "      <td>2014-12-31</td>\n",
       "    </tr>\n",
       "    <tr>\n",
       "      <th>22895</th>\n",
       "      <td>Washington</td>\n",
       "      <td>233.05</td>\n",
       "      <td>3337</td>\n",
       "      <td>189.92</td>\n",
       "      <td>3562</td>\n",
       "      <td>NaN</td>\n",
       "      <td>160</td>\n",
       "      <td>2014-12-31</td>\n",
       "    </tr>\n",
       "    <tr>\n",
       "      <th>22896</th>\n",
       "      <td>West Virginia</td>\n",
       "      <td>359.35</td>\n",
       "      <td>551</td>\n",
       "      <td>224.03</td>\n",
       "      <td>545</td>\n",
       "      <td>NaN</td>\n",
       "      <td>60</td>\n",
       "      <td>2014-12-31</td>\n",
       "    </tr>\n",
       "    <tr>\n",
       "      <th>22897</th>\n",
       "      <td>Wisconsin</td>\n",
       "      <td>350.52</td>\n",
       "      <td>2244</td>\n",
       "      <td>272.71</td>\n",
       "      <td>2221</td>\n",
       "      <td>NaN</td>\n",
       "      <td>167</td>\n",
       "      <td>2014-12-31</td>\n",
       "    </tr>\n",
       "    <tr>\n",
       "      <th>22898</th>\n",
       "      <td>Wyoming</td>\n",
       "      <td>322.27</td>\n",
       "      <td>131</td>\n",
       "      <td>351.86</td>\n",
       "      <td>197</td>\n",
       "      <td>NaN</td>\n",
       "      <td>12</td>\n",
       "      <td>2014-12-31</td>\n",
       "    </tr>\n",
       "  </tbody>\n",
       "</table>\n",
       "</div>"
      ],
      "text/plain": [
       "               State   HighQ  HighQN    MedQ  MedQN  LowQ  LowQN        date\n",
       "22894       Virginia  364.98    3513  293.12   3079   NaN    284  2014-12-31\n",
       "22895     Washington  233.05    3337  189.92   3562   NaN    160  2014-12-31\n",
       "22896  West Virginia  359.35     551  224.03    545   NaN     60  2014-12-31\n",
       "22897      Wisconsin  350.52    2244  272.71   2221   NaN    167  2014-12-31\n",
       "22898        Wyoming  322.27     131  351.86    197   NaN     12  2014-12-31"
      ]
     },
     "execution_count": 7,
     "metadata": {},
     "output_type": "execute_result"
    }
   ],
   "source": [
    "df_price.tail()"
   ]
  },
  {
   "cell_type": "code",
   "execution_count": 8,
   "metadata": {
    "collapsed": false
   },
   "outputs": [
    {
     "data": {
      "text/html": [
       "<div>\n",
       "<table border=\"1\" class=\"dataframe\">\n",
       "  <thead>\n",
       "    <tr style=\"text-align: right;\">\n",
       "      <th></th>\n",
       "      <th>HighQ</th>\n",
       "      <th>HighQN</th>\n",
       "      <th>MedQ</th>\n",
       "      <th>MedQN</th>\n",
       "      <th>LowQ</th>\n",
       "      <th>LowQN</th>\n",
       "    </tr>\n",
       "  </thead>\n",
       "  <tbody>\n",
       "    <tr>\n",
       "      <th>count</th>\n",
       "      <td>22899.000000</td>\n",
       "      <td>22899.000000</td>\n",
       "      <td>22899.000000</td>\n",
       "      <td>22899.000000</td>\n",
       "      <td>12342.000000</td>\n",
       "      <td>22899.000000</td>\n",
       "    </tr>\n",
       "    <tr>\n",
       "      <th>mean</th>\n",
       "      <td>329.759854</td>\n",
       "      <td>2274.743657</td>\n",
       "      <td>247.618306</td>\n",
       "      <td>2183.737805</td>\n",
       "      <td>203.747847</td>\n",
       "      <td>202.804489</td>\n",
       "    </tr>\n",
       "    <tr>\n",
       "      <th>std</th>\n",
       "      <td>41.173167</td>\n",
       "      <td>2641.936586</td>\n",
       "      <td>44.276015</td>\n",
       "      <td>2789.902626</td>\n",
       "      <td>105.480774</td>\n",
       "      <td>220.531987</td>\n",
       "    </tr>\n",
       "    <tr>\n",
       "      <th>min</th>\n",
       "      <td>202.020000</td>\n",
       "      <td>93.000000</td>\n",
       "      <td>144.850000</td>\n",
       "      <td>134.000000</td>\n",
       "      <td>63.700000</td>\n",
       "      <td>11.000000</td>\n",
       "    </tr>\n",
       "    <tr>\n",
       "      <th>25%</th>\n",
       "      <td>303.780000</td>\n",
       "      <td>597.000000</td>\n",
       "      <td>215.775000</td>\n",
       "      <td>548.000000</td>\n",
       "      <td>147.117500</td>\n",
       "      <td>51.000000</td>\n",
       "    </tr>\n",
       "    <tr>\n",
       "      <th>50%</th>\n",
       "      <td>342.310000</td>\n",
       "      <td>1420.000000</td>\n",
       "      <td>245.800000</td>\n",
       "      <td>1320.000000</td>\n",
       "      <td>186.760000</td>\n",
       "      <td>139.000000</td>\n",
       "    </tr>\n",
       "    <tr>\n",
       "      <th>75%</th>\n",
       "      <td>356.550000</td>\n",
       "      <td>2958.000000</td>\n",
       "      <td>274.155000</td>\n",
       "      <td>2673.000000</td>\n",
       "      <td>221.360000</td>\n",
       "      <td>263.000000</td>\n",
       "    </tr>\n",
       "    <tr>\n",
       "      <th>max</th>\n",
       "      <td>415.700000</td>\n",
       "      <td>18492.000000</td>\n",
       "      <td>379.000000</td>\n",
       "      <td>22027.000000</td>\n",
       "      <td>734.650000</td>\n",
       "      <td>1287.000000</td>\n",
       "    </tr>\n",
       "  </tbody>\n",
       "</table>\n",
       "</div>"
      ],
      "text/plain": [
       "              HighQ        HighQN          MedQ         MedQN          LowQ  \\\n",
       "count  22899.000000  22899.000000  22899.000000  22899.000000  12342.000000   \n",
       "mean     329.759854   2274.743657    247.618306   2183.737805    203.747847   \n",
       "std       41.173167   2641.936586     44.276015   2789.902626    105.480774   \n",
       "min      202.020000     93.000000    144.850000    134.000000     63.700000   \n",
       "25%      303.780000    597.000000    215.775000    548.000000    147.117500   \n",
       "50%      342.310000   1420.000000    245.800000   1320.000000    186.760000   \n",
       "75%      356.550000   2958.000000    274.155000   2673.000000    221.360000   \n",
       "max      415.700000  18492.000000    379.000000  22027.000000    734.650000   \n",
       "\n",
       "              LowQN  \n",
       "count  22899.000000  \n",
       "mean     202.804489  \n",
       "std      220.531987  \n",
       "min       11.000000  \n",
       "25%       51.000000  \n",
       "50%      139.000000  \n",
       "75%      263.000000  \n",
       "max     1287.000000  "
      ]
     },
     "execution_count": 8,
     "metadata": {},
     "output_type": "execute_result"
    }
   ],
   "source": [
    "df_price.describe()"
   ]
  },
  {
   "cell_type": "code",
   "execution_count": 9,
   "metadata": {
    "collapsed": false
   },
   "outputs": [
    {
     "data": {
      "text/plain": [
       "18250"
      ]
     },
     "execution_count": 9,
     "metadata": {},
     "output_type": "execute_result"
    }
   ],
   "source": [
    "50*365"
   ]
  },
  {
   "cell_type": "code",
   "execution_count": 10,
   "metadata": {
    "collapsed": true
   },
   "outputs": [],
   "source": [
    "df_demo = pd.read_csv(\"data/Demographics_State.csv\")"
   ]
  },
  {
   "cell_type": "code",
   "execution_count": 11,
   "metadata": {
    "collapsed": false
   },
   "outputs": [
    {
     "data": {
      "text/html": [
       "<div>\n",
       "<table border=\"1\" class=\"dataframe\">\n",
       "  <thead>\n",
       "    <tr style=\"text-align: right;\">\n",
       "      <th></th>\n",
       "      <th>total_population</th>\n",
       "      <th>percent_white</th>\n",
       "      <th>percent_black</th>\n",
       "      <th>percent_asian</th>\n",
       "      <th>percent_hispanic</th>\n",
       "      <th>per_capita_income</th>\n",
       "      <th>median_rent</th>\n",
       "      <th>median_age</th>\n",
       "    </tr>\n",
       "  </thead>\n",
       "  <tbody>\n",
       "    <tr>\n",
       "      <th>count</th>\n",
       "      <td>51.000000</td>\n",
       "      <td>51.000000</td>\n",
       "      <td>51.000000</td>\n",
       "      <td>51.000000</td>\n",
       "      <td>51.000000</td>\n",
       "      <td>51.000000</td>\n",
       "      <td>51.000000</td>\n",
       "      <td>51.000000</td>\n",
       "    </tr>\n",
       "    <tr>\n",
       "      <th>mean</th>\n",
       "      <td>6108560.666667</td>\n",
       "      <td>70.254902</td>\n",
       "      <td>10.823529</td>\n",
       "      <td>3.725490</td>\n",
       "      <td>10.803922</td>\n",
       "      <td>28053.803922</td>\n",
       "      <td>719.490196</td>\n",
       "      <td>37.639216</td>\n",
       "    </tr>\n",
       "    <tr>\n",
       "      <th>std</th>\n",
       "      <td>6904016.387730</td>\n",
       "      <td>16.116877</td>\n",
       "      <td>10.867761</td>\n",
       "      <td>5.355664</td>\n",
       "      <td>9.996038</td>\n",
       "      <td>4659.378182</td>\n",
       "      <td>189.820375</td>\n",
       "      <td>2.352367</td>\n",
       "    </tr>\n",
       "    <tr>\n",
       "      <th>min</th>\n",
       "      <td>570134.000000</td>\n",
       "      <td>23.000000</td>\n",
       "      <td>0.000000</td>\n",
       "      <td>1.000000</td>\n",
       "      <td>1.000000</td>\n",
       "      <td>20618.000000</td>\n",
       "      <td>448.000000</td>\n",
       "      <td>29.600000</td>\n",
       "    </tr>\n",
       "    <tr>\n",
       "      <th>25%</th>\n",
       "      <td>1712494.500000</td>\n",
       "      <td>59.500000</td>\n",
       "      <td>3.000000</td>\n",
       "      <td>1.000000</td>\n",
       "      <td>4.500000</td>\n",
       "      <td>24908.500000</td>\n",
       "      <td>566.000000</td>\n",
       "      <td>36.300000</td>\n",
       "    </tr>\n",
       "    <tr>\n",
       "      <th>50%</th>\n",
       "      <td>4361333.000000</td>\n",
       "      <td>74.000000</td>\n",
       "      <td>7.000000</td>\n",
       "      <td>2.000000</td>\n",
       "      <td>8.000000</td>\n",
       "      <td>26824.000000</td>\n",
       "      <td>664.000000</td>\n",
       "      <td>37.600000</td>\n",
       "    </tr>\n",
       "    <tr>\n",
       "      <th>75%</th>\n",
       "      <td>6712318.500000</td>\n",
       "      <td>82.500000</td>\n",
       "      <td>14.500000</td>\n",
       "      <td>4.000000</td>\n",
       "      <td>12.500000</td>\n",
       "      <td>30144.000000</td>\n",
       "      <td>839.000000</td>\n",
       "      <td>38.950000</td>\n",
       "    </tr>\n",
       "    <tr>\n",
       "      <th>max</th>\n",
       "      <td>37659181.000000</td>\n",
       "      <td>94.000000</td>\n",
       "      <td>49.000000</td>\n",
       "      <td>37.000000</td>\n",
       "      <td>47.000000</td>\n",
       "      <td>45290.000000</td>\n",
       "      <td>1220.000000</td>\n",
       "      <td>43.200000</td>\n",
       "    </tr>\n",
       "  </tbody>\n",
       "</table>\n",
       "</div>"
      ],
      "text/plain": [
       "       total_population  percent_white  percent_black  percent_asian  \\\n",
       "count         51.000000      51.000000      51.000000      51.000000   \n",
       "mean     6108560.666667      70.254902      10.823529       3.725490   \n",
       "std      6904016.387730      16.116877      10.867761       5.355664   \n",
       "min       570134.000000      23.000000       0.000000       1.000000   \n",
       "25%      1712494.500000      59.500000       3.000000       1.000000   \n",
       "50%      4361333.000000      74.000000       7.000000       2.000000   \n",
       "75%      6712318.500000      82.500000      14.500000       4.000000   \n",
       "max     37659181.000000      94.000000      49.000000      37.000000   \n",
       "\n",
       "       percent_hispanic  per_capita_income  median_rent  median_age  \n",
       "count         51.000000          51.000000    51.000000   51.000000  \n",
       "mean          10.803922       28053.803922   719.490196   37.639216  \n",
       "std            9.996038        4659.378182   189.820375    2.352367  \n",
       "min            1.000000       20618.000000   448.000000   29.600000  \n",
       "25%            4.500000       24908.500000   566.000000   36.300000  \n",
       "50%            8.000000       26824.000000   664.000000   37.600000  \n",
       "75%           12.500000       30144.000000   839.000000   38.950000  \n",
       "max           47.000000       45290.000000  1220.000000   43.200000  "
      ]
     },
     "execution_count": 11,
     "metadata": {},
     "output_type": "execute_result"
    }
   ],
   "source": [
    "df_demo.describe()"
   ]
  },
  {
   "cell_type": "code",
   "execution_count": 12,
   "metadata": {
    "collapsed": true
   },
   "outputs": [],
   "source": [
    "df_pop = pd.read_csv(\"data/Population_State.csv\")"
   ]
  },
  {
   "cell_type": "code",
   "execution_count": 13,
   "metadata": {
    "collapsed": false
   },
   "outputs": [
    {
     "data": {
      "text/plain": [
       "<bound method DataFrame.describe of                   region     value\n",
       "0                alabama   4777326\n",
       "1                 alaska    711139\n",
       "2                arizona   6410979\n",
       "3               arkansas   2916372\n",
       "4             california  37325068\n",
       "5               colorado   5042853\n",
       "6            connecticut   3572213\n",
       "7               delaware    900131\n",
       "8   district of columbia    605759\n",
       "9                florida  18885152\n",
       "10               georgia   9714569\n",
       "11                hawaii   1362730\n",
       "12                 idaho   1567803\n",
       "13              illinois  12823860\n",
       "14               indiana   6485530\n",
       "15                  iowa   3047646\n",
       "16                kansas   2851183\n",
       "17              kentucky   4340167\n",
       "18             louisiana   4529605\n",
       "19                 maine   1329084\n",
       "20              maryland   5785496\n",
       "21         massachusetts   6560595\n",
       "22              michigan   9897264\n",
       "23             minnesota   5313081\n",
       "24           mississippi   2967620\n",
       "25              missouri   5982413\n",
       "26               montana    990785\n",
       "27              nebraska   1827306\n",
       "28                nevada   2704204\n",
       "29         new hampshire   1317474\n",
       "30            new jersey   8793888\n",
       "31            new mexico   2055287\n",
       "32              new york  19398125\n",
       "33        north carolina   9544249\n",
       "34          north dakota    676253\n",
       "35                  ohio  11533561\n",
       "36              oklahoma   3749005\n",
       "37                oregon   3836628\n",
       "38          pennsylvania  12699589\n",
       "39          rhode island   1052471\n",
       "40        south carolina   4630351\n",
       "41          south dakota    815871\n",
       "42             tennessee   6353226\n",
       "43                 texas  25208897\n",
       "44                  utah   2766233\n",
       "45               vermont    625498\n",
       "46              virginia   8014955\n",
       "47            washington   6738714\n",
       "48         west virginia   1850481\n",
       "49             wisconsin   5687219\n",
       "50               wyoming    562803>"
      ]
     },
     "execution_count": 13,
     "metadata": {},
     "output_type": "execute_result"
    }
   ],
   "source": [
    "df_pop.describe"
   ]
  },
  {
   "cell_type": "code",
   "execution_count": null,
   "metadata": {
    "collapsed": true
   },
   "outputs": [],
   "source": []
  }
 ],
 "metadata": {
  "kernelspec": {
   "display_name": "Python 2",
   "language": "python",
   "name": "python2"
  },
  "language_info": {
   "codemirror_mode": {
    "name": "ipython",
    "version": 2
   },
   "file_extension": ".py",
   "mimetype": "text/x-python",
   "name": "python",
   "nbconvert_exporter": "python",
   "pygments_lexer": "ipython2",
   "version": "2.7.10"
  }
 },
 "nbformat": 4,
 "nbformat_minor": 0
}
